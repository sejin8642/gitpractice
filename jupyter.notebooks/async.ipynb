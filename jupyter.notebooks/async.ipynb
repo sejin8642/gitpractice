{
 "cells": [
  {
   "cell_type": "code",
   "execution_count": 1,
   "metadata": {},
   "outputs": [],
   "source": [
    "import dis\n",
    "import time\n",
    "import threading\n",
    "import multiprocessing as mp"
   ]
  },
  {
   "cell_type": "code",
   "execution_count": 17,
   "metadata": {},
   "outputs": [],
   "source": [
    "counter = 0\n",
    "\n",
    "def a():\n",
    "    global counter\n",
    "    \n",
    "    for _ in range(100):\n",
    "        counter += 1\n",
    "        time.sleep(0.10)\n",
    "\n",
    "def b():\n",
    "    global counter\n",
    "    time.sleep(0.05)\n",
    "    \n",
    "    for _ in range(100):\n",
    "        print(counter)\n",
    "        time.sleep(0.10)\n",
    "\n",
    "def c():\n",
    "    global counter\n",
    "    \n",
    "    for _ in range(100):\n",
    "        counter -= 1\n",
    "        time.sleep(0.09)"
   ]
  },
  {
   "cell_type": "code",
   "execution_count": 6,
   "metadata": {
    "collapsed": true,
    "jupyter": {
     "outputs_hidden": true
    }
   },
   "outputs": [
    {
     "name": "stdout",
     "output_type": "stream",
     "text": [
      "0\n",
      "0\n",
      "0\n",
      "0\n",
      "0\n",
      "0\n",
      "0\n",
      "0\n",
      "0\n",
      "0\n",
      "0\n",
      "0\n",
      "0\n",
      "0\n",
      "0\n",
      "0\n",
      "0\n",
      "0\n",
      "0\n",
      "0\n",
      "0\n",
      "0\n",
      "0\n",
      "0\n",
      "0\n",
      "0\n",
      "0\n",
      "0\n",
      "0\n",
      "0\n",
      "0\n",
      "0\n",
      "0\n",
      "0\n",
      "0\n",
      "0\n",
      "0\n",
      "0\n",
      "0\n",
      "0\n",
      "0\n",
      "0\n",
      "0\n",
      "0\n",
      "0\n",
      "0\n",
      "0\n",
      "0\n",
      "0\n",
      "0\n",
      "0\n",
      "0\n",
      "0\n",
      "0\n",
      "0\n",
      "0\n",
      "0\n",
      "0\n",
      "0\n",
      "0\n"
     ]
    }
   ],
   "source": [
    "mp.Process(target=f).start()\n",
    "mp.Process(target=c).start()"
   ]
  },
  {
   "cell_type": "code",
   "execution_count": 18,
   "metadata": {
    "collapsed": true,
    "jupyter": {
     "outputs_hidden": true
    }
   },
   "outputs": [
    {
     "name": "stdout",
     "output_type": "stream",
     "text": [
      "0\n",
      "0\n",
      "0\n",
      "0\n",
      "-1\n",
      "-1\n",
      "-1\n",
      "-1\n",
      "-1\n",
      "-1\n",
      "-1\n",
      "-1\n",
      "-1\n",
      "-2\n",
      "-2\n",
      "-2\n",
      "-2\n",
      "-2\n",
      "-2\n",
      "-2\n",
      "-2\n",
      "-3\n",
      "-3\n",
      "-3\n",
      "-3\n",
      "-3\n",
      "-3\n",
      "-3\n",
      "-3\n",
      "-3\n",
      "-4\n",
      "-4\n",
      "-4\n",
      "-4\n",
      "-4\n",
      "-4\n",
      "-4\n",
      "-4\n",
      "-4\n",
      "-5\n",
      "-5\n",
      "-5\n",
      "-5\n",
      "-5\n",
      "-5\n",
      "-5\n",
      "-5\n",
      "-5\n",
      "-6\n",
      "-6\n",
      "-6\n",
      "-6\n",
      "-6\n",
      "-6\n",
      "-6\n",
      "-6\n",
      "-7\n",
      "-7\n",
      "-7\n",
      "-7\n",
      "-7\n",
      "-7\n",
      "-7\n",
      "-7\n",
      "-7\n",
      "-8\n",
      "-8\n",
      "-8\n",
      "-8\n",
      "-8\n",
      "-8\n",
      "-8\n",
      "-8\n",
      "-9\n",
      "-9\n",
      "-9\n",
      "-9\n",
      "-9\n",
      "-9\n",
      "-9\n",
      "-9\n",
      "-9\n",
      "-10\n",
      "-10\n",
      "-10\n",
      "-10\n",
      "-10\n",
      "-10\n",
      "-10\n",
      "-10\n",
      "-9\n",
      "-8\n",
      "-7\n",
      "-6\n",
      "-5\n",
      "-4\n",
      "-3\n",
      "-2\n",
      "-1\n",
      "0\n"
     ]
    }
   ],
   "source": [
    "threading.Thread(target=a).start()\n",
    "threading.Thread(target=b).start()\n",
    "threading.Thread(target=c).start()"
   ]
  },
  {
   "cell_type": "code",
   "execution_count": 23,
   "metadata": {},
   "outputs": [],
   "source": [
    "import asyncio"
   ]
  },
  {
   "cell_type": "code",
   "execution_count": 33,
   "metadata": {},
   "outputs": [],
   "source": [
    "counter = 0\n",
    "\n",
    "async def a():\n",
    "    global counter\n",
    "    \n",
    "    for _ in range(100):\n",
    "        counter += 1\n",
    "        time.sleep(0.10)\n",
    "\n",
    "async def b():\n",
    "    global counter\n",
    "    time.sleep(0.05)\n",
    "    \n",
    "    for _ in range(100):\n",
    "        print(counter)\n",
    "        time.sleep(0.10)\n",
    "\n",
    "async def c():\n",
    "    global counter\n",
    "    \n",
    "    for _ in range(100):\n",
    "        counter -= 1\n",
    "        time.sleep(0.09)"
   ]
  },
  {
   "cell_type": "code",
   "execution_count": 37,
   "metadata": {},
   "outputs": [],
   "source": [
    "async def num():\n",
    "    print(123)\n",
    "\n",
    "async def test():\n",
    "    task = asyncio.create_task(num())\n",
    "    await task"
   ]
  },
  {
   "cell_type": "code",
   "execution_count": 40,
   "metadata": {},
   "outputs": [
    {
     "name": "stdout",
     "output_type": "stream",
     "text": [
      "123\n"
     ]
    }
   ],
   "source": [
    "await test()"
   ]
  },
  {
   "cell_type": "code",
   "execution_count": 41,
   "metadata": {},
   "outputs": [],
   "source": [
    "eve = asyncio.get_event_loop()"
   ]
  },
  {
   "cell_type": "code",
   "execution_count": 45,
   "metadata": {},
   "outputs": [
    {
     "data": {
      "text/plain": [
       "\u001b[0;31mSignature:\u001b[0m \u001b[0masyncio\u001b[0m\u001b[0;34m.\u001b[0m\u001b[0mgather\u001b[0m\u001b[0;34m(\u001b[0m\u001b[0;34m*\u001b[0m\u001b[0mcoros_or_futures\u001b[0m\u001b[0;34m,\u001b[0m \u001b[0mloop\u001b[0m\u001b[0;34m=\u001b[0m\u001b[0;32mNone\u001b[0m\u001b[0;34m,\u001b[0m \u001b[0mreturn_exceptions\u001b[0m\u001b[0;34m=\u001b[0m\u001b[0;32mFalse\u001b[0m\u001b[0;34m)\u001b[0m\u001b[0;34m\u001b[0m\u001b[0;34m\u001b[0m\u001b[0m\n",
       "\u001b[0;31mDocstring:\u001b[0m\n",
       "Return a future aggregating results from the given coroutines/futures.\n",
       "\n",
       "Coroutines will be wrapped in a future and scheduled in the event\n",
       "loop. They will not necessarily be scheduled in the same order as\n",
       "passed in.\n",
       "\n",
       "All futures must share the same event loop.  If all the tasks are\n",
       "done successfully, the returned future's result is the list of\n",
       "results (in the order of the original sequence, not necessarily\n",
       "the order of results arrival).  If *return_exceptions* is True,\n",
       "exceptions in the tasks are treated the same as successful\n",
       "results, and gathered in the result list; otherwise, the first\n",
       "raised exception will be immediately propagated to the returned\n",
       "future.\n",
       "\n",
       "Cancellation: if the outer Future is cancelled, all children (that\n",
       "have not completed yet) are also cancelled.  If any child is\n",
       "cancelled, this is treated as if it raised CancelledError --\n",
       "the outer Future is *not* cancelled in this case.  (This is to\n",
       "prevent the cancellation of one child to cause other children to\n",
       "be cancelled.)\n",
       "\u001b[0;31mFile:\u001b[0m      ~/anaconda3/lib/python3.8/asyncio/tasks.py\n",
       "\u001b[0;31mType:\u001b[0m      function\n"
      ]
     },
     "metadata": {},
     "output_type": "display_data"
    }
   ],
   "source": [
    "asyncio.gather?"
   ]
  },
  {
   "cell_type": "code",
   "execution_count": null,
   "metadata": {},
   "outputs": [],
   "source": []
  }
 ],
 "metadata": {
  "kernelspec": {
   "display_name": "Python 3",
   "language": "python",
   "name": "python3"
  },
  "language_info": {
   "codemirror_mode": {
    "name": "ipython",
    "version": 3
   },
   "file_extension": ".py",
   "mimetype": "text/x-python",
   "name": "python",
   "nbconvert_exporter": "python",
   "pygments_lexer": "ipython3",
   "version": "3.8.3"
  }
 },
 "nbformat": 4,
 "nbformat_minor": 4
}
