{
 "cells": [
  {
   "cell_type": "code",
   "execution_count": 1,
   "metadata": {},
   "outputs": [],
   "source": [
    "import time\n",
    "import multiprocessing\n",
    "import concurrent.futures"
   ]
  },
  {
   "cell_type": "code",
   "execution_count": 3,
   "metadata": {},
   "outputs": [],
   "source": [
    "def sleeping(x):\n",
    "    print(f'Sleeping for {x} seconds....')\n",
    "    time.sleep(x)\n",
    "    print(f'Done sleeping for {x}!!')"
   ]
  },
  {
   "cell_type": "code",
   "execution_count": 3,
   "metadata": {},
   "outputs": [
    {
     "name": "stdout",
     "output_type": "stream",
     "text": [
      "Sleeping for 2 seconds....\n",
      "Done sleeping for 2!!\n",
      "Sleeping for 2 seconds....\n",
      "Done sleeping for 2!!\n"
     ]
    }
   ],
   "source": [
    "start = time.perf_counter()\n",
    "sleeping(2)\n",
    "sleeping(2)\n",
    "finish = time.perf_counter()"
   ]
  },
  {
   "cell_type": "code",
   "execution_count": 4,
   "metadata": {},
   "outputs": [
    {
     "data": {
      "text/plain": [
       "4.0052879370014125"
      ]
     },
     "execution_count": 4,
     "metadata": {},
     "output_type": "execute_result"
    }
   ],
   "source": [
    "finish - start"
   ]
  },
  {
   "cell_type": "code",
   "execution_count": 5,
   "metadata": {},
   "outputs": [],
   "source": [
    "p1 = multiprocessing.Process(target=sleeping, args=[1.5])\n",
    "p2 = multiprocessing.Process(target=sleeping, args=[1.5])"
   ]
  },
  {
   "cell_type": "code",
   "execution_count": 6,
   "metadata": {},
   "outputs": [
    {
     "name": "stdout",
     "output_type": "stream",
     "text": [
      "Sleeping for 1.5 seconds....\n",
      "Sleeping for 1.5 seconds....\n",
      "Check point (see where it appears)\n",
      "Done sleeping for 1.5!!Done sleeping for 1.5!!\n",
      "\n"
     ]
    }
   ],
   "source": [
    "start = time.perf_counter()\n",
    "\n",
    "p1.start()\n",
    "p2.start()\n",
    "print('Check point (see where it appears)')\n",
    "\n",
    "p1.join()\n",
    "p2.join()\n",
    "\n",
    "finish = time.perf_counter()"
   ]
  },
  {
   "cell_type": "code",
   "execution_count": 7,
   "metadata": {},
   "outputs": [
    {
     "data": {
      "text/plain": [
       "1.5405059670010814"
      ]
     },
     "execution_count": 7,
     "metadata": {},
     "output_type": "execute_result"
    }
   ],
   "source": [
    "finish - start"
   ]
  },
  {
   "cell_type": "code",
   "execution_count": 8,
   "metadata": {},
   "outputs": [],
   "source": [
    "processes = [ multiprocessing.Process(target=sleeping, args=[1.5]) for _ in range(5) ]"
   ]
  },
  {
   "cell_type": "code",
   "execution_count": 9,
   "metadata": {},
   "outputs": [
    {
     "name": "stdout",
     "output_type": "stream",
     "text": [
      "Sleeping for 1.5 seconds....\n",
      "Sleeping for 1.5 seconds....\n",
      "Sleeping for 1.5 seconds....\n",
      "Sleeping for 1.5 seconds....\n",
      "Sleeping for 1.5 seconds....\n",
      "Done sleeping for 1.5!!\n",
      "Done sleeping for 1.5!!\n",
      "Done sleeping for 1.5!!\n",
      "Done sleeping for 1.5!!\n",
      "Done sleeping for 1.5!!\n"
     ]
    }
   ],
   "source": [
    "start = time.perf_counter()\n",
    "\n",
    "for process in processes:\n",
    "    process.start()\n",
    "\n",
    "for process in processes:\n",
    "    process.join()\n",
    "    \n",
    "finish = time.perf_counter()"
   ]
  },
  {
   "cell_type": "code",
   "execution_count": 10,
   "metadata": {},
   "outputs": [
    {
     "data": {
      "text/plain": [
       "1.553768690000652"
      ]
     },
     "execution_count": 10,
     "metadata": {},
     "output_type": "execute_result"
    }
   ],
   "source": [
    "finish - start"
   ]
  },
  {
   "cell_type": "code",
   "execution_count": 2,
   "metadata": {},
   "outputs": [],
   "source": [
    "import concurrent.futures\n",
    "\n",
    "def sleep(x):\n",
    "    print(f'Sleeping for {x} seconds....')\n",
    "    time.sleep(x)\n",
    "    return f'Done sleeping for {x} seconds!!'"
   ]
  },
  {
   "cell_type": "code",
   "execution_count": 5,
   "metadata": {},
   "outputs": [
    {
     "name": "stdout",
     "output_type": "stream",
     "text": [
      "Sleeping for 1 seconds....Sleeping for 1 seconds....\n",
      "\n",
      "Done sleeping for 1 seconds!!\n",
      "Done sleeping for 1 seconds!!\n"
     ]
    }
   ],
   "source": [
    "start = time.perf_counter()\n",
    "\n",
    "with concurrent.futures.ProcessPoolExecutor() as executor:\n",
    "    f1 = executor.submit(sleep, 1)\n",
    "    f2 = executor.submit(sleep, 1)\n",
    "\n",
    "    print(f1.result())\n",
    "    print(f2.result())\n",
    "\n",
    "finish = time.perf_counter()"
   ]
  },
  {
   "cell_type": "code",
   "execution_count": 6,
   "metadata": {},
   "outputs": [
    {
     "data": {
      "text/plain": [
       "1.0923180419995333"
      ]
     },
     "execution_count": 6,
     "metadata": {},
     "output_type": "execute_result"
    }
   ],
   "source": [
    "finish - start"
   ]
  },
  {
   "cell_type": "code",
   "execution_count": 5,
   "metadata": {},
   "outputs": [
    {
     "name": "stdout",
     "output_type": "stream",
     "text": [
      "Sleeping for 1 seconds....Sleeping for 1 seconds....\n",
      "Sleeping for 1 seconds....\n",
      "Sleeping for 1 seconds....Sleeping for 1 seconds....\n",
      "Sleeping for 1 seconds....\n",
      "\n",
      "Sleeping for 1 seconds....\n",
      "\n",
      "Sleeping for 1 seconds....\n",
      "Sleeping for 1 seconds....Sleeping for 1 seconds....Sleeping for 1 seconds....Sleeping for 1 seconds....Sleeping for 1 seconds....\n",
      "\n",
      "Sleeping for 1 seconds....\n",
      "\n",
      "Sleeping for 1 seconds....\n",
      "Sleeping for 1 seconds....\n",
      "\n",
      "\n",
      "Done sleeping for 1 seconds!!\n",
      "Done sleeping for 1 seconds!!\n",
      "Done sleeping for 1 seconds!!\n",
      "Done sleeping for 1 seconds!!\n",
      "Done sleeping for 1 seconds!!\n",
      "Done sleeping for 1 seconds!!\n",
      "Done sleeping for 1 seconds!!\n",
      "Done sleeping for 1 seconds!!\n",
      "Sleeping for 1 seconds....\n",
      "Done sleeping for 1 seconds!!\n",
      "Done sleeping for 1 seconds!!\n",
      "Done sleeping for 1 seconds!!\n",
      "Done sleeping for 1 seconds!!\n",
      "Done sleeping for 1 seconds!!\n",
      "Done sleeping for 1 seconds!!\n",
      "Done sleeping for 1 seconds!!\n",
      "Done sleeping for 1 seconds!!\n",
      "Done sleeping for 1 seconds!!\n"
     ]
    }
   ],
   "source": [
    "start = time.perf_counter()\n",
    "\n",
    "with concurrent.futures.ProcessPoolExecutor() as executor:\n",
    "    results = [ executor.submit(sleep, 1) for _ in range(17) ]\n",
    "    \n",
    "    for f in concurrent.futures.as_completed(results):\n",
    "        print(f.result())\n",
    "\n",
    "finish = time.perf_counter()"
   ]
  },
  {
   "cell_type": "code",
   "execution_count": 6,
   "metadata": {},
   "outputs": [
    {
     "data": {
      "text/plain": [
       "3.0724883250004495"
      ]
     },
     "execution_count": 6,
     "metadata": {},
     "output_type": "execute_result"
    }
   ],
   "source": [
    "finish - start"
   ]
  },
  {
   "cell_type": "code",
   "execution_count": 14,
   "metadata": {},
   "outputs": [
    {
     "name": "stdout",
     "output_type": "stream",
     "text": [
      "Sleeping for 8 seconds....Sleeping for 6 seconds....Sleeping for 4 seconds....Sleeping for 5 seconds....\n",
      "\n",
      "Sleeping for 2 seconds....Sleeping for 1 seconds....Sleeping for 7 seconds....\n",
      "\n",
      "\n",
      "\n",
      "\n",
      "Sleeping for 3 seconds....\n",
      "Done sleeping for 1 seconds!!\n",
      "Done sleeping for 2 seconds!!\n",
      "Done sleeping for 3 seconds!!\n",
      "Done sleeping for 4 seconds!!\n",
      "Done sleeping for 5 seconds!!\n",
      "Done sleeping for 6 seconds!!\n",
      "Done sleeping for 7 seconds!!\n",
      "Done sleeping for 8 seconds!!\n"
     ]
    }
   ],
   "source": [
    "start = time.perf_counter()\n",
    "\n",
    "with concurrent.futures.ProcessPoolExecutor() as executor:\n",
    "    results = [ executor.submit(sleep, sec) for sec in range(8, 0, -1) ]\n",
    "    \n",
    "    for f in concurrent.futures.as_completed(results):\n",
    "        print(f.result())\n",
    "\n",
    "finish = time.perf_counter()"
   ]
  },
  {
   "cell_type": "code",
   "execution_count": 15,
   "metadata": {},
   "outputs": [
    {
     "name": "stdout",
     "output_type": "stream",
     "text": [
      "Sleeping for 8 seconds....Sleeping for 5 seconds....Sleeping for 6 seconds....Sleeping for 2 seconds....\n",
      "Sleeping for 7 seconds....Sleeping for 1 seconds....\n",
      "\n",
      "Sleeping for 3 seconds....Sleeping for 4 seconds....\n",
      "\n",
      "\n",
      "\n",
      "\n",
      "Done sleeping for 8 seconds!!\n",
      "Done sleeping for 7 seconds!!\n",
      "Done sleeping for 6 seconds!!\n",
      "Done sleeping for 5 seconds!!\n",
      "Done sleeping for 4 seconds!!\n",
      "Done sleeping for 3 seconds!!\n",
      "Done sleeping for 2 seconds!!\n",
      "Done sleeping for 1 seconds!!\n"
     ]
    }
   ],
   "source": [
    "start = time.perf_counter()\n",
    "\n",
    "with concurrent.futures.ProcessPoolExecutor() as executor:\n",
    "    results = executor.map(sleep, range(8, 0, -1))\n",
    "    \n",
    "    for result in results:\n",
    "        print(result)\n",
    "\n",
    "finish = time.perf_counter()"
   ]
  },
  {
   "cell_type": "code",
   "execution_count": null,
   "metadata": {},
   "outputs": [],
   "source": []
  }
 ],
 "metadata": {
  "kernelspec": {
   "display_name": "Python 3",
   "language": "python",
   "name": "python3"
  },
  "language_info": {
   "codemirror_mode": {
    "name": "ipython",
    "version": 3
   },
   "file_extension": ".py",
   "mimetype": "text/x-python",
   "name": "python",
   "nbconvert_exporter": "python",
   "pygments_lexer": "ipython3",
   "version": "3.8.3"
  }
 },
 "nbformat": 4,
 "nbformat_minor": 4
}
