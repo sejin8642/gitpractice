{
 "cells": [
  {
   "cell_type": "code",
   "execution_count": 30,
   "metadata": {},
   "outputs": [],
   "source": [
    "import threading\n",
    "import time\n",
    "import concurrent.futures"
   ]
  },
  {
   "cell_type": "code",
   "execution_count": 31,
   "metadata": {},
   "outputs": [],
   "source": [
    "def sleeping(x):\n",
    "    print(f'Sleeping for {x} seconds.....')\n",
    "    time.sleep(x)\n",
    "    return f'Done sleeping for {x} seconds!!'"
   ]
  },
  {
   "cell_type": "code",
   "execution_count": 32,
   "metadata": {},
   "outputs": [
    {
     "name": "stdout",
     "output_type": "stream",
     "text": [
      "Sleeping for 2 seconds.....\n",
      "Sleeping for 2 seconds.....\n"
     ]
    }
   ],
   "source": [
    "start = time.perf_counter()\n",
    "sleeping(2)\n",
    "sleeping(2)\n",
    "finish = time.perf_counter()"
   ]
  },
  {
   "cell_type": "code",
   "execution_count": 5,
   "metadata": {},
   "outputs": [
    {
     "data": {
      "text/plain": [
       "4.00378045799971"
      ]
     },
     "execution_count": 5,
     "metadata": {},
     "output_type": "execute_result"
    }
   ],
   "source": [
    "finish - start"
   ]
  },
  {
   "cell_type": "code",
   "execution_count": 17,
   "metadata": {},
   "outputs": [],
   "source": [
    "t1 = threading.Thread(target=sleeping, args=[2.5])\n",
    "t2 = threading.Thread(target=sleeping, args=[2.0])"
   ]
  },
  {
   "cell_type": "code",
   "execution_count": 18,
   "metadata": {},
   "outputs": [
    {
     "name": "stdout",
     "output_type": "stream",
     "text": [
      "Sleeping for 2.5 seconds.....\n",
      "Sleeping for 2.0 seconds.....\n",
      "Done sleeping for 2.0 seconds!!\n",
      "Done sleeping for 2.5 seconds!!\n"
     ]
    }
   ],
   "source": [
    "start = time.perf_counter()\n",
    "t1.start()\n",
    "t2.start()\n",
    "finish = time.perf_counter()"
   ]
  },
  {
   "cell_type": "code",
   "execution_count": 19,
   "metadata": {},
   "outputs": [
    {
     "data": {
      "text/plain": [
       "0.004623257000275771"
      ]
     },
     "execution_count": 19,
     "metadata": {},
     "output_type": "execute_result"
    }
   ],
   "source": [
    "finish - start"
   ]
  },
  {
   "cell_type": "code",
   "execution_count": 27,
   "metadata": {},
   "outputs": [],
   "source": [
    "threads = [ threading.Thread(target=sleeping, args=[0.1*i + 2.0]) for i in range(5) ]"
   ]
  },
  {
   "cell_type": "code",
   "execution_count": 28,
   "metadata": {},
   "outputs": [
    {
     "name": "stdout",
     "output_type": "stream",
     "text": [
      "Sleeping for 2.0 seconds.....\n",
      "Sleeping for 2.1 seconds.....\n",
      "Sleeping for 2.2 seconds.....\n",
      "Sleeping for 2.3 seconds.....Sleeping for 2.4 seconds.....\n",
      "\n",
      "Done sleeping for 2.0 seconds!!\n",
      "Done sleeping for 2.1 seconds!!\n",
      "Done sleeping for 2.2 seconds!!\n",
      "Done sleeping for 2.3 seconds!!\n",
      "Done sleeping for 2.4 seconds!!\n"
     ]
    }
   ],
   "source": [
    "start = time.perf_counter()\n",
    "for i in range(5):\n",
    "    threads[i].start()\n",
    "\n",
    "for i in range(5):\n",
    "    threads[i].join()\n",
    "finish = time.perf_counter()"
   ]
  },
  {
   "cell_type": "code",
   "execution_count": 29,
   "metadata": {},
   "outputs": [
    {
     "data": {
      "text/plain": [
       "2.4124796850001076"
      ]
     },
     "execution_count": 29,
     "metadata": {},
     "output_type": "execute_result"
    }
   ],
   "source": [
    "finish - start"
   ]
  },
  {
   "cell_type": "code",
   "execution_count": 40,
   "metadata": {},
   "outputs": [
    {
     "name": "stdout",
     "output_type": "stream",
     "text": [
      "Sleeping for 1.0 seconds.....\n",
      "Sleeping for 1.0 seconds.....\n",
      "Done sleeping for 1.0 seconds!!\n",
      "Done sleeping for 1.0 seconds!!\n"
     ]
    }
   ],
   "source": [
    "with concurrent.futures.ThreadPoolExecutor() as executor:\n",
    "    f1 = executor.submit(sleeping, 1.0)\n",
    "    f2 = executor.submit(sleeping, 1.0)\n",
    "\n",
    "    print(f1.result())\n",
    "    print(f2.result())"
   ]
  },
  {
   "cell_type": "code",
   "execution_count": 46,
   "metadata": {},
   "outputs": [
    {
     "name": "stdout",
     "output_type": "stream",
     "text": [
      "Sleeping for 4.0 seconds.....\n",
      "Sleeping for 3.5 seconds.....Sleeping for 3.0 seconds.....\n",
      "Sleeping for 2.5 seconds.....\n",
      "Sleeping for 2.0 seconds.....\n",
      "\n",
      "Done sleeping for 2.0 seconds!!\n",
      "Done sleeping for 2.5 seconds!!\n",
      "Done sleeping for 3.0 seconds!!\n",
      "Done sleeping for 3.5 seconds!!\n",
      "Done sleeping for 4.0 seconds!!\n"
     ]
    }
   ],
   "source": [
    "with concurrent.futures.ThreadPoolExecutor() as executor:\n",
    "    results = [ executor.submit(sleeping, 4.0 - 0.5*i) for i in range(5) ]\n",
    "\n",
    "    for f in concurrent.futures.as_completed(results):\n",
    "        print(f.result())"
   ]
  },
  {
   "cell_type": "code",
   "execution_count": 45,
   "metadata": {},
   "outputs": [
    {
     "name": "stdout",
     "output_type": "stream",
     "text": [
      "Sleeping for 5 seconds.....\n",
      "Sleeping for 4 seconds.....\n",
      "Sleeping for 3 seconds.....\n",
      "Sleeping for 2 seconds.....\n",
      "Sleeping for 1 seconds.....\n",
      "Done sleeping for 5 seconds!!\n",
      "Done sleeping for 4 seconds!!\n",
      "Done sleeping for 3 seconds!!\n",
      "Done sleeping for 2 seconds!!\n",
      "Done sleeping for 1 seconds!!\n"
     ]
    }
   ],
   "source": [
    "with concurrent.futures.ThreadPoolExecutor() as executor:\n",
    "    seconds = [5, 4, 3, 2, 1]\n",
    "    results = executor.map(sleeping, seconds)\n",
    "\n",
    "    for result in results:\n",
    "        print(result)"
   ]
  },
  {
   "cell_type": "code",
   "execution_count": null,
   "metadata": {},
   "outputs": [],
   "source": []
  }
 ],
 "metadata": {
  "kernelspec": {
   "display_name": "Python 3",
   "language": "python",
   "name": "python3"
  },
  "language_info": {
   "codemirror_mode": {
    "name": "ipython",
    "version": 3
   },
   "file_extension": ".py",
   "mimetype": "text/x-python",
   "name": "python",
   "nbconvert_exporter": "python",
   "pygments_lexer": "ipython3",
   "version": "3.8.3"
  }
 },
 "nbformat": 4,
 "nbformat_minor": 4
}
